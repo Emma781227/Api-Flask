{
 "cells": [
  {
   "cell_type": "markdown",
   "id": "0f36279e-bbe6-48f0-a973-93cd48790176",
   "metadata": {},
   "source": [
    "# mon premier notebook\n",
    "2024"
   ]
  },
  {
   "cell_type": "code",
   "execution_count": 2,
   "id": "5cd7d1c6-7f95-4a74-9d68-78b557dc2bff",
   "metadata": {},
   "outputs": [
    {
     "name": "stdout",
     "output_type": "stream",
     "text": [
      "valeur1\n",
      "2\n",
      "[1, 2, 3]\n"
     ]
    },
    {
     "name": "stdin",
     "output_type": "stream",
     "text": [
      "Enter the max number  : 8\n",
      "Enter the max nomber : 9\n"
     ]
    },
    {
     "name": "stdout",
     "output_type": "stream",
     "text": [
      "11\n"
     ]
    }
   ],
   "source": [
    "import random\n",
    "mon_dictionnaire = {\"clé1\": \"valeur1\", \"clé2\": 2, \"clé3\": [1, 2, 3]};\n",
    "for keys in mon_dictionnaire:\n",
    "    print(mon_dictionnaire[keys]);\n",
    "    \n",
    "def sommealeatoire(a, b):\n",
    "    aleatoiren1 = random.randint(1,a);\n",
    "    aleatoiren2 = random.randint(1,b);\n",
    "    sommes = aleatoiren1 + aleatoiren2;\n",
    "    return sommes;\n",
    "\n",
    "n1 = int(input(\"Enter the max number  :\") )\n",
    "n2 = int(input(\"Enter the max nomber :\") )\n",
    "# n3 = float(input(\"Enter the first nomber :\") )\n",
    "\n",
    "# result = somme(n1,n2,n3);\n",
    "resultaleatoire = sommealeatoire(n1,n2)\n",
    "print(resultaleatoire);"
   ]
  },
  {
   "cell_type": "code",
   "execution_count": 4,
   "id": "d0a393d2-d613-472f-b7c7-f87da7d627a9",
   "metadata": {},
   "outputs": [
    {
     "name": "stdout",
     "output_type": "stream",
     "text": [
      "       FacilityID                                      URL  \\\n",
      "0               1      https://toiletmap.gov.au/facility/1   \n",
      "1               2      https://toiletmap.gov.au/facility/2   \n",
      "2               3      https://toiletmap.gov.au/facility/3   \n",
      "3               4      https://toiletmap.gov.au/facility/4   \n",
      "4               5      https://toiletmap.gov.au/facility/5   \n",
      "...           ...                                      ...   \n",
      "23658       62973  https://toiletmap.gov.au/facility/62973   \n",
      "23659       62974  https://toiletmap.gov.au/facility/62974   \n",
      "23660       62975  https://toiletmap.gov.au/facility/62975   \n",
      "23661       62976  https://toiletmap.gov.au/facility/62976   \n",
      "23662       62977  https://toiletmap.gov.au/facility/62977   \n",
      "\n",
      "                                    Name     FacilityType  \\\n",
      "0                    Sandy Beach Reserve  Park or reserve   \n",
      "1                          Point Reserve  Park or reserve   \n",
      "2                   Success Hill Reserve  Park or reserve   \n",
      "3                        Jubilee Reserve  Park or reserve   \n",
      "4                       Ashfield Reserve  Park or reserve   \n",
      "...                                  ...              ...   \n",
      "23658                      Bowling Green  Park or reserve   \n",
      "23659                     Murray Gardens        Rest area   \n",
      "23660           Glenvale Shopping Centre  Shopping centre   \n",
      "23661  Flagstone Village Shopping Centre  Shopping centre   \n",
      "23662          Bomaderry Shopping Centre  Shopping centre   \n",
      "\n",
      "                         Address1        Town State AddressNote   Latitude  \\\n",
      "0           Lost 15525, West Road  Bassendean    WA         NaN -31.921836   \n",
      "1             Lot 197, North Road  Bassendean    WA         NaN -31.904410   \n",
      "2        Lot 2838, Seventh Avenue  Bassendean    WA         NaN -31.896289   \n",
      "3         Lot 6322, Robinson Road   Eden Hill    WA         NaN -31.891474   \n",
      "4      Lot 12061, 2 Coulston Road    Ashfield    WA         NaN -31.913433   \n",
      "...                           ...         ...   ...         ...        ...   \n",
      "23658              Railway Parade  Parramatta   NSW         NaN -33.813870   \n",
      "23659               George Street  Parramatta   NSW         NaN -33.813129   \n",
      "23660           114 Glenvale Road    Glenvale   QLD         NaN -27.563987   \n",
      "23661                6 Gates Road   Flagstone   QLD         NaN -27.809275   \n",
      "23662         320 Princes Highway   Bomaderry   NSW         NaN -34.843569   \n",
      "\n",
      "        Longitude  ...  Ambulant  Accessible LHTransfer  RHTransfer  \\\n",
      "0      115.950206  ...     False        True      False       False   \n",
      "1      115.960991  ...     False        True      False       False   \n",
      "2      115.955781  ...     False        True      False       False   \n",
      "3      115.940164  ...     False       False      False       False   \n",
      "4      115.936477  ...     False        True      False       False   \n",
      "...           ...  ...       ...         ...        ...         ...   \n",
      "23658  150.996823  ...     False        True      False       False   \n",
      "23659  150.998034  ...     False        True      False       False   \n",
      "23660  151.911458  ...     False        True      False       False   \n",
      "23661  152.949954  ...     False        True      False       False   \n",
      "23662  150.595536  ...     False        True      False       False   \n",
      "\n",
      "       ToiletNote  SharpsDisposal  DrinkingWater SanitaryDisposal  \\\n",
      "0             NaN            True           True             True   \n",
      "1             NaN            True           True             True   \n",
      "2             NaN            True           True             True   \n",
      "3             NaN            True          False             True   \n",
      "4             NaN            True           True             True   \n",
      "...           ...             ...            ...              ...   \n",
      "23658         NaN           False          False            False   \n",
      "23659         NaN            True          False            False   \n",
      "23660         NaN            True          False             True   \n",
      "23661         NaN           False          False            False   \n",
      "23662         NaN           False          False            False   \n",
      "\n",
      "       MensPadDisposal  Shower  \n",
      "0                False   False  \n",
      "1                False   False  \n",
      "2                False    True  \n",
      "3                False   False  \n",
      "4                False   False  \n",
      "...                ...     ...  \n",
      "23658            False   False  \n",
      "23659            False   False  \n",
      "23660            False   False  \n",
      "23661            False   False  \n",
      "23662            False   False  \n",
      "\n",
      "[23663 rows x 47 columns]\n"
     ]
    }
   ],
   "source": [
    "import pandas as pd\n",
    "data= pd.read_csv(r'C:\\Users\\Xpert_Games\\Downloads\\dataset.csv');\n",
    "print(data)\n"
   ]
  },
  {
   "cell_type": "code",
   "execution_count": null,
   "id": "76810c57-e19f-425a-99ea-675276b70141",
   "metadata": {},
   "outputs": [],
   "source": []
  }
 ],
 "metadata": {
  "kernelspec": {
   "display_name": "Python 3 (ipykernel)",
   "language": "python",
   "name": "python3"
  },
  "language_info": {
   "codemirror_mode": {
    "name": "ipython",
    "version": 3
   },
   "file_extension": ".py",
   "mimetype": "text/x-python",
   "name": "python",
   "nbconvert_exporter": "python",
   "pygments_lexer": "ipython3",
   "version": "3.11.9"
  }
 },
 "nbformat": 4,
 "nbformat_minor": 5
}
